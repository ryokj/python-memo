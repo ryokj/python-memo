{
 "cells": [
  {
   "cell_type": "markdown",
   "metadata": {},
   "source": [
    "# Python速習メモ"
   ]
  },
  {
   "cell_type": "markdown",
   "metadata": {},
   "source": [
    "---"
   ]
  },
  {
   "cell_type": "markdown",
   "metadata": {},
   "source": [
    "## 1. Pythonについて"
   ]
  },
  {
   "cell_type": "markdown",
   "metadata": {},
   "source": [
    "### Pythonの特徴\n",
    "- 動的型付けのインタプリタ型言語\n",
    "- 標準でパッケージ管理ツール（pip）と仮想環境構築ツール（venv）が備わっている\n",
    "- ライブラリが豊富\n",
    "- インデントにより、ソースの構造を決める"
   ]
  },
  {
   "cell_type": "markdown",
   "metadata": {},
   "source": [
    "### Anacondaとは\n",
    "- Anaconda = Python + データ分析用ライブラリ + ツール類\n",
    "- 標準のPythonとは、パッケージ管理ツールと仮想環境構築ツールが違う(Anacondaはcondaを使う)\n",
    "- 主に、データ分析目的で使われる"
   ]
  },
  {
   "cell_type": "markdown",
   "metadata": {},
   "source": [
    "### AnacondaとPythonどちらをインストールして使うか\n",
    "- データ分析用途または、手軽に環境構築を行うならAnacondaを使い、それ以外は標準のPythonを使う"
   ]
  },
  {
   "cell_type": "markdown",
   "metadata": {},
   "source": [
    "---"
   ]
  },
  {
   "cell_type": "markdown",
   "metadata": {},
   "source": [
    "## 2. Pythonのインストール"
   ]
  },
  {
   "cell_type": "markdown",
   "metadata": {},
   "source": [
    "[Pythonの公式サイト](https://www.python.org/downloads/)\n",
    "でインストーラをダウンロードして実行\n",
    "\n",
    "※ Anacondaを使う場合は、[Anacondaの公式サイト](https://www.anaconda.com/products/individual)\n",
    "でインストーラをダウンロードして実行"
   ]
  },
  {
   "cell_type": "markdown",
   "metadata": {},
   "source": [
    "---"
   ]
  },
  {
   "cell_type": "markdown",
   "metadata": {},
   "source": [
    "## 3. Pythonの実行方法"
   ]
  },
  {
   "cell_type": "markdown",
   "metadata": {},
   "source": [
    "コマンドプロンプトなどに、「python」と入力するとREPLが起動し、対話的にPythonの式や文が実行できる。\n",
    "REPLを終了する場合は、「quit()」と入力する。\n",
    "\n",
    "ファイルにPythonのソースを書いて実行する場合は（ここでは、test.pyに書いたとする）、「python test.py」のようにして行う。"
   ]
  },
  {
   "cell_type": "markdown",
   "metadata": {},
   "source": [
    "---"
   ]
  },
  {
   "cell_type": "markdown",
   "metadata": {},
   "source": [
    "## 4. 基礎的なデータ型と文法"
   ]
  },
  {
   "cell_type": "markdown",
   "metadata": {},
   "source": [
    "### リテラル（よく使うもののみ）\n",
    "- 整数（多倍長整数）\n",
    "    - 例： -80, 100000000000000000000\n",
    "- 浮動小数点\n",
    "    - 例： 3.14, 6.332e2\n",
    "- ブール値\n",
    "    - 例:  True, False\n",
    "- 文字列（「\"」か「'」で文字列を囲む）\n",
    "    - 例：\"Hello\", 'こんにちは'\n",
    "- リスト（可変長配列）\n",
    "    - 例：[4, 7, 10, 1]\n",
    "- タプル（タプルの要素は不変）\n",
    "    - 例： (3.14, \"円周率\")\n",
    "- 辞書\n",
    "    - 例： {\"apple\": \"リンゴ\", \"banana\": \"バナナ\"}"
   ]
  },
  {
   "cell_type": "markdown",
   "metadata": {},
   "source": [
    "### 演算子"
   ]
  },
  {
   "cell_type": "code",
   "execution_count": 1,
   "metadata": {},
   "outputs": [
    {
     "data": {
      "text/plain": [
       "3"
      ]
     },
     "execution_count": 1,
     "metadata": {},
     "output_type": "execute_result"
    }
   ],
   "source": [
    "# 代入\n",
    "a = 3\n",
    "a"
   ]
  },
  {
   "cell_type": "code",
   "execution_count": 2,
   "metadata": {},
   "outputs": [],
   "source": [
    "# 四則演算、複合代入演算子などはCやJavaと同じ使い方（インクリメントとデクリメントはない）"
   ]
  },
  {
   "cell_type": "code",
   "execution_count": 3,
   "metadata": {},
   "outputs": [
    {
     "data": {
      "text/plain": [
       "6"
      ]
     },
     "execution_count": 3,
     "metadata": {},
     "output_type": "execute_result"
    }
   ],
   "source": [
    "2 + 4"
   ]
  },
  {
   "cell_type": "code",
   "execution_count": 4,
   "metadata": {},
   "outputs": [
    {
     "data": {
      "text/plain": [
       "1.5"
      ]
     },
     "execution_count": 4,
     "metadata": {},
     "output_type": "execute_result"
    }
   ],
   "source": [
    "6 / 4 # 割り算による演算結果は常に浮動小数点数"
   ]
  },
  {
   "cell_type": "code",
   "execution_count": 5,
   "metadata": {},
   "outputs": [
    {
     "data": {
      "text/plain": [
       "1"
      ]
     },
     "execution_count": 5,
     "metadata": {},
     "output_type": "execute_result"
    }
   ],
   "source": [
    "6 // 4 # 整数同士の割り算で、整数部を求めるならば、「//」を使う"
   ]
  },
  {
   "cell_type": "code",
   "execution_count": 6,
   "metadata": {},
   "outputs": [
    {
     "data": {
      "text/plain": [
       "18446744073709551616"
      ]
     },
     "execution_count": 6,
     "metadata": {},
     "output_type": "execute_result"
    }
   ],
   "source": [
    "2 ** 64 # 「**」は、べき乗"
   ]
  },
  {
   "cell_type": "code",
   "execution_count": 7,
   "metadata": {},
   "outputs": [
    {
     "data": {
      "text/plain": [
       "(True, True, False)"
      ]
     },
     "execution_count": 7,
     "metadata": {},
     "output_type": "execute_result"
    }
   ],
   "source": [
    "(True and True, False or True, not True) # and, or, notでブール演算"
   ]
  },
  {
   "cell_type": "code",
   "execution_count": 8,
   "metadata": {},
   "outputs": [
    {
     "data": {
      "text/plain": [
       "7"
      ]
     },
     "execution_count": 8,
     "metadata": {},
     "output_type": "execute_result"
    }
   ],
   "source": [
    "# リストへのアクセス\n",
    "z = [6, 3, 7]\n",
    "z[2]"
   ]
  },
  {
   "cell_type": "code",
   "execution_count": 9,
   "metadata": {},
   "outputs": [
    {
     "data": {
      "text/plain": [
       "0"
      ]
     },
     "execution_count": 9,
     "metadata": {},
     "output_type": "execute_result"
    }
   ],
   "source": [
    "z[2] = 0\n",
    "z[2]"
   ]
  },
  {
   "cell_type": "code",
   "execution_count": 10,
   "metadata": {},
   "outputs": [
    {
     "data": {
      "text/plain": [
       "[6, 3]"
      ]
     },
     "execution_count": 10,
     "metadata": {},
     "output_type": "execute_result"
    }
   ],
   "source": [
    "# 部分リストを取得\n",
    "z = [6, 3, 7]\n",
    "z[0:2:1] # [始めのインデックス:終わりのインデックス（このインデックスの値は含まれない）:増分]"
   ]
  },
  {
   "cell_type": "code",
   "execution_count": 11,
   "metadata": {},
   "outputs": [
    {
     "data": {
      "text/plain": [
       "'太郎'"
      ]
     },
     "execution_count": 11,
     "metadata": {},
     "output_type": "execute_result"
    }
   ],
   "source": [
    "# 辞書へのアクセス\n",
    "d = {}\n",
    "d[\"田中\"] = \"太郎\"\n",
    "d[\"田中\"]"
   ]
  },
  {
   "cell_type": "code",
   "execution_count": 12,
   "metadata": {},
   "outputs": [
    {
     "data": {
      "text/plain": [
       "{'田中': '太郎', '吉田': '次郎'}"
      ]
     },
     "execution_count": 12,
     "metadata": {},
     "output_type": "execute_result"
    }
   ],
   "source": [
    "d[\"吉田\"] = \"次郎\"\n",
    "d"
   ]
  },
  {
   "cell_type": "markdown",
   "metadata": {},
   "source": [
    "### 入出力"
   ]
  },
  {
   "cell_type": "code",
   "execution_count": 13,
   "metadata": {},
   "outputs": [
    {
     "name": "stdout",
     "output_type": "stream",
     "text": [
      "数字を入力してください： 4\n",
      "入力した数字を倍にすると 8 になります。\n"
     ]
    }
   ],
   "source": [
    "inp = input(\"数字を入力してください： \") # input で入力を受け付ける\n",
    "num = int(inp)\n",
    "print(f\"入力した数字を倍にすると {num * 2} になります。\") # print で画面に出力"
   ]
  },
  {
   "cell_type": "markdown",
   "metadata": {},
   "source": [
    "### 制御文"
   ]
  },
  {
   "cell_type": "code",
   "execution_count": 14,
   "metadata": {},
   "outputs": [
    {
     "name": "stdout",
     "output_type": "stream",
     "text": [
      "x は 1 です\n"
     ]
    }
   ],
   "source": [
    "# if 文\n",
    "x = 1\n",
    "if x == 0:\n",
    "    print(\"x は 0 です\")\n",
    "elif x == 1:\n",
    "    print(\"x は 1 です\")\n",
    "else:\n",
    "    print(\"x は 0 でも 1 でもないです\")"
   ]
  },
  {
   "cell_type": "code",
   "execution_count": 15,
   "metadata": {},
   "outputs": [
    {
     "data": {
      "text/plain": [
       "1024"
      ]
     },
     "execution_count": 15,
     "metadata": {},
     "output_type": "execute_result"
    }
   ],
   "source": [
    "# while 文\n",
    "x = 1\n",
    "while x < 1000:\n",
    "    x *= 2\n",
    "x"
   ]
  },
  {
   "cell_type": "code",
   "execution_count": 16,
   "metadata": {},
   "outputs": [
    {
     "name": "stdout",
     "output_type": "stream",
     "text": [
      "0\n",
      "2\n",
      "4\n",
      "6\n",
      "8\n"
     ]
    }
   ],
   "source": [
    "# for 文\n",
    "for i in range(0, 10, 2):\n",
    "    print(i)"
   ]
  },
  {
   "cell_type": "code",
   "execution_count": 17,
   "metadata": {},
   "outputs": [
    {
     "name": "stdout",
     "output_type": "stream",
     "text": [
      "0\n",
      "1\n",
      "2\n",
      "4\n",
      "5\n"
     ]
    }
   ],
   "source": [
    "# for 文とwhile 文は 、breakでループを終了、continueで次のループに進められる\n",
    "for i in range(10):\n",
    "    if i == 3:\n",
    "        continue\n",
    "    elif i == 6:\n",
    "        break\n",
    "    print(i)"
   ]
  },
  {
   "cell_type": "markdown",
   "metadata": {},
   "source": [
    "### 関数定義"
   ]
  },
  {
   "cell_type": "code",
   "execution_count": 18,
   "metadata": {},
   "outputs": [],
   "source": [
    "# def で関数定義。構文は以下の通り。\n",
    "#\n",
    "# def 関数名(カンマ区切りの引数リスト):\n",
    "#     関数本体\n",
    "\n",
    "def factorial(n):\n",
    "    if n == 0:\n",
    "        return 1\n",
    "    else:\n",
    "        return n * factorial(n - 1)"
   ]
  },
  {
   "cell_type": "code",
   "execution_count": 19,
   "metadata": {},
   "outputs": [
    {
     "data": {
      "text/plain": [
       "120"
      ]
     },
     "execution_count": 19,
     "metadata": {},
     "output_type": "execute_result"
    }
   ],
   "source": [
    "factorial(5)"
   ]
  },
  {
   "cell_type": "markdown",
   "metadata": {},
   "source": [
    "### 例外処理"
   ]
  },
  {
   "cell_type": "code",
   "execution_count": 20,
   "metadata": {},
   "outputs": [
    {
     "name": "stdout",
     "output_type": "stream",
     "text": [
      "40を0で割ると、\n",
      "エラー発生！\n",
      "division by zero\n",
      "終わり。\n"
     ]
    }
   ],
   "source": [
    "# try, except, finally で例外処理\n",
    "try:\n",
    "    print(\"40を0で割ると、\")\n",
    "    v = 40 / 0\n",
    "except ZeroDivisionError as e:\n",
    "    print(\"エラー発生！\")\n",
    "    print(e)\n",
    "finally:\n",
    "    print(\"終わり。\")"
   ]
  },
  {
   "cell_type": "markdown",
   "metadata": {},
   "source": [
    "## クラスの使い方"
   ]
  },
  {
   "cell_type": "code",
   "execution_count": 21,
   "metadata": {},
   "outputs": [],
   "source": [
    "# 構文\n",
    "# class クラス名(親クラス): # 親クラスは省略でき、省略時は object が親クラスとなる。\n",
    "#     # コンストラクタ\n",
    "#     def __init__(self, カンマ区切りの引数リスト):\n",
    "#         self.n = 1 # インスタンス変数\n",
    "#\n",
    "#    # インスタンスメソッド\n",
    "#    def method(self, カンマ区切りの引数リスト):\n",
    "#        メソッド本体\n",
    "\n",
    "class A:\n",
    "    def __init__(self, n):\n",
    "        self.n = n\n",
    "\n",
    "    def show(self):\n",
    "        print(self.n)"
   ]
  },
  {
   "cell_type": "code",
   "execution_count": 22,
   "metadata": {},
   "outputs": [
    {
     "name": "stdout",
     "output_type": "stream",
     "text": [
      "10\n"
     ]
    }
   ],
   "source": [
    "a = A(10)\n",
    "a.show()"
   ]
  },
  {
   "cell_type": "markdown",
   "metadata": {},
   "source": [
    "---"
   ]
  },
  {
   "cell_type": "markdown",
   "metadata": {},
   "source": [
    "## 5. ライブラリ（numpyとmatplot）の使い方の例"
   ]
  },
  {
   "cell_type": "code",
   "execution_count": 23,
   "metadata": {},
   "outputs": [],
   "source": [
    "import numpy as np\n",
    "import matplotlib.pyplot as plt"
   ]
  },
  {
   "cell_type": "code",
   "execution_count": 24,
   "metadata": {},
   "outputs": [
    {
     "data": {
      "text/plain": [
       "array([0.000e+00, 1.000e-03, 2.000e-03, ..., 6.281e+00, 6.282e+00,\n",
       "       6.283e+00])"
      ]
     },
     "execution_count": 24,
     "metadata": {},
     "output_type": "execute_result"
    }
   ],
   "source": [
    "x = np.arange(0, 2*np.pi, 0.001)\n",
    "x"
   ]
  },
  {
   "cell_type": "code",
   "execution_count": 25,
   "metadata": {},
   "outputs": [
    {
     "data": {
      "text/plain": [
       "array([ 0.        ,  0.001     ,  0.002     , ..., -0.00218531,\n",
       "       -0.00118531, -0.00018531])"
      ]
     },
     "execution_count": 25,
     "metadata": {},
     "output_type": "execute_result"
    }
   ],
   "source": [
    "y = np.sin(x)\n",
    "y"
   ]
  },
  {
   "cell_type": "code",
   "execution_count": 28,
   "metadata": {},
   "outputs": [
    {
     "data": {
      "image/png": "[encoded data removed]",
      "text/plain": [
       "<Figure size 432x288 with 1 Axes>"
      ]
     },
     "metadata": {
      "needs_background": "light"
     },
     "output_type": "display_data"
    }
   ],
   "source": [
    "plt.plot(x, y)\n",
    "plt.title(\"y = sin(x)\")\n",
    "plt.xlabel(\"x\")\n",
    "plt.ylabel(\"y\")\n",
    "plt.savefig(\"sin.png\")\n",
    "plt.show()"
   ]
  },
  {
   "cell_type": "markdown",
   "metadata": {},
   "source": [
    "## 参考サイト\n",
    "- https://rinatz.github.io/python-book/\n",
    "- https://www.python.ambitious-engineer.com/"
   ]
  }
 ],
 "metadata": {
  "kernelspec": {
   "display_name": "Python 3",
   "language": "python",
   "name": "python3"
  },
  "language_info": {
   "codemirror_mode": {
    "name": "ipython",
    "version": 3
   },
   "file_extension": ".py",
   "mimetype": "text/x-python",
   "name": "python",
   "nbconvert_exporter": "python",
   "pygments_lexer": "ipython3",
   "version": "3.9.0"
  }
 },
 "nbformat": 4,
 "nbformat_minor": 4
}
